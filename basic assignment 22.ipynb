{
 "cells": [
  {
   "cell_type": "code",
   "execution_count": 1,
   "metadata": {},
   "outputs": [
    {
     "name": "stdout",
     "output_type": "stream",
     "text": [
      "iNeuron\n"
     ]
    }
   ],
   "source": [
    "#1. What is the result of the code, and explain?\n",
    "\n",
    "X = 'iNeuron'\n",
    "def func():\n",
    "    print(X)\n",
    "func()\n",
    "#result will be iNeuron, as X is global varible so when we call func() it prints value of X"
   ]
  },
  {
   "cell_type": "code",
   "execution_count": 2,
   "metadata": {},
   "outputs": [
    {
     "name": "stdout",
     "output_type": "stream",
     "text": [
      "iNeuron\n"
     ]
    }
   ],
   "source": [
    "#What is the result of the code, and explain?\n",
    "X = 'iNeuron'\n",
    "def func():\n",
    "    X = 'NI!'\n",
    "    \n",
    "func()\n",
    "print(X)\n",
    "# as  we are calling print() outside the function so it gives output of global variable X"
   ]
  },
  {
   "cell_type": "code",
   "execution_count": 3,
   "metadata": {},
   "outputs": [
    {
     "name": "stdout",
     "output_type": "stream",
     "text": [
      "NI!\n",
      "iNeuron\n"
     ]
    }
   ],
   "source": [
    "#What is the result of the code, and explain?\n",
    "X = 'iNeuron'\n",
    "def func():\n",
    "    X = 'NI!'\n",
    "    print(X)\n",
    "    \n",
    "func()\n",
    "print(X)\n",
    "# as we are calling print () inside the function and outside the function both values of X will be printed.\n",
    "\n"
   ]
  },
  {
   "cell_type": "code",
   "execution_count": 4,
   "metadata": {},
   "outputs": [
    {
     "name": "stdout",
     "output_type": "stream",
     "text": [
      "NI!\n"
     ]
    }
   ],
   "source": [
    "#What is the result of the code, and explain?\n",
    "X = 'iNeuron'\n",
    "def func():\n",
    "    global X\n",
    "    X = 'NI!'\n",
    "    \n",
    "func()\n",
    "print(X)\n",
    "# here we are using global keyword which makes varible global and also priority will be given to variable inside the function \n",
    "#output will be NI!"
   ]
  },
  {
   "cell_type": "code",
   "execution_count": 5,
   "metadata": {},
   "outputs": [
    {
     "name": "stdout",
     "output_type": "stream",
     "text": [
      "NI!\n"
     ]
    },
    {
     "data": {
      "text/plain": [
       "'iNeuron'"
      ]
     },
     "execution_count": 5,
     "metadata": {},
     "output_type": "execute_result"
    }
   ],
   "source": [
    "##What is the result of the code, and explain?\n",
    "X = 'iNeuron'\n",
    "def func():\n",
    "    X = 'NI!'\n",
    "    def nested():\n",
    "        print (X)\n",
    "    nested()\n",
    "    \n",
    "func()\n",
    "X\n",
    "# as  it is a nested function when we call func()  it goes inside nested function and gives value as NI!\n",
    "# and when we call X directly as its alredy defined varible it prints values of X as 'iNeuron'"
   ]
  },
  {
   "cell_type": "code",
   "execution_count": 6,
   "metadata": {},
   "outputs": [
    {
     "name": "stdout",
     "output_type": "stream",
     "text": [
      "Spam\n"
     ]
    }
   ],
   "source": [
    "#How about this code: what is its output in Python 3, and explain?\n",
    "\n",
    "def func():\n",
    "    X = 'NI!'\n",
    "    def nested():\n",
    "        nonlocal X\n",
    "        X = 'Spam'\n",
    "    nested()\n",
    "    print(X)\n",
    "\n",
    "\n",
    "func()\n",
    "#  As non local is used it is not taking value of X outside nested function"
   ]
  },
  {
   "cell_type": "code",
   "execution_count": null,
   "metadata": {},
   "outputs": [],
   "source": []
  }
 ],
 "metadata": {
  "kernelspec": {
   "display_name": "Python 3",
   "language": "python",
   "name": "python3"
  },
  "language_info": {
   "codemirror_mode": {
    "name": "ipython",
    "version": 3
   },
   "file_extension": ".py",
   "mimetype": "text/x-python",
   "name": "python",
   "nbconvert_exporter": "python",
   "pygments_lexer": "ipython3",
   "version": "3.8.5"
  }
 },
 "nbformat": 4,
 "nbformat_minor": 4
}
